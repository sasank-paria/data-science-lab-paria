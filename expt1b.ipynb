{
  "nbformat": 4,
  "nbformat_minor": 0,
  "metadata": {
    "colab": {
      "provenance": [],
      "authorship_tag": "ABX9TyOBHeCYb9t2QoPZDFM1rxk2",
      "include_colab_link": true
    },
    "kernelspec": {
      "name": "python3",
      "display_name": "Python 3"
    },
    "language_info": {
      "name": "python"
    }
  },
  "cells": [
    {
      "cell_type": "markdown",
      "metadata": {
        "id": "view-in-github",
        "colab_type": "text"
      },
      "source": [
        "<a href=\"https://colab.research.google.com/github/sasank-paria/data-science-lab-paria/blob/master/expt1b.ipynb\" target=\"_parent\"><img src=\"https://colab.research.google.com/assets/colab-badge.svg\" alt=\"Open In Colab\"/></a>"
      ]
    },
    {
      "cell_type": "code",
      "execution_count": null,
      "metadata": {
        "id": "3VS2gDRuEJcZ"
      },
      "outputs": [],
      "source": [
        "\n",
        "import pandas as pd\n",
        "import numpy as np\n",
        "\n",
        "df = pd.read_csv(\"IRIS.csv\")\n",
        "print(df)\n",
        "df.head(10)\n",
        "df.tail()\n",
        "df.shape\n",
        "df.columns\n",
        "df['sepal_width'].nunique\n",
        "df['species'].value_counts()\n",
        "df.isnull().sum()\n",
        "df.isnull().sum()*100/len(df) #will get percentage of null values"
      ]
    }
  ]
}